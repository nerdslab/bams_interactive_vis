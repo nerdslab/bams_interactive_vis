{
 "cells": [
  {
   "cell_type": "markdown",
   "metadata": {},
   "source": [
    "# Interactive Visualization Example Notebook\n",
    "This notebook will walk you through an example of how to use the interactive visualiztion tool we developed for use with BAMS.\n",
    "We use "
   ]
  },
  {
   "cell_type": "markdown",
   "metadata": {},
   "source": [
    "### Download and Format Sample Data"
   ]
  },
  {
   "cell_type": "code",
   "execution_count": 10,
   "metadata": {},
   "outputs": [
    {
     "name": "stdout",
     "output_type": "stream",
     "text": [
      "--2024-05-07 15:33:14--  https://www.dropbox.com/scl/fi/ddqx98jlt0yjc9ebpikhq/rodgers_hl_example.zip?rlkey=eoiy5zsfmk21tnq7liogn6sgj&st=t72zh7b2&dl=1\n",
      "Resolving www.dropbox.com (www.dropbox.com)... 162.125.9.18, 2620:100:601f:18::a27d:912\n",
      "Connecting to www.dropbox.com (www.dropbox.com)|162.125.9.18|:443... connected.\n",
      "HTTP request sent, awaiting response... 302 Found\n",
      "Location: https://uc9311b0786cf0132909e965ccb0.dl.dropboxusercontent.com/cd/0/inline/CSdFAhFeQZXBvTDj5HOvdUqxVs1HtABhs1LekDCVtELYRjiisbVcwLxfVZaaky_JVmGvrtWw6RGnBABsgPvfjZRaXHl_W-xzYzhamIRocDe7lf_hAt5ZBalfgE10m9s2xiAxzv7HgFD-hAFo2JTLoZgh/file?dl=1# [following]\n",
      "--2024-05-07 15:33:15--  https://uc9311b0786cf0132909e965ccb0.dl.dropboxusercontent.com/cd/0/inline/CSdFAhFeQZXBvTDj5HOvdUqxVs1HtABhs1LekDCVtELYRjiisbVcwLxfVZaaky_JVmGvrtWw6RGnBABsgPvfjZRaXHl_W-xzYzhamIRocDe7lf_hAt5ZBalfgE10m9s2xiAxzv7HgFD-hAFo2JTLoZgh/file?dl=1\n",
      "Resolving uc9311b0786cf0132909e965ccb0.dl.dropboxusercontent.com (uc9311b0786cf0132909e965ccb0.dl.dropboxusercontent.com)... 162.125.9.15, 2620:100:601f:15::a27d:90f\n",
      "Connecting to uc9311b0786cf0132909e965ccb0.dl.dropboxusercontent.com (uc9311b0786cf0132909e965ccb0.dl.dropboxusercontent.com)|162.125.9.15|:443... connected.\n",
      "HTTP request sent, awaiting response... 302 Found\n",
      "Location: /cd/0/inline2/CSc13bt0MCvVBtQ8zIM9OihaduXdOUpp2JPuE32lU-XTqW2Pasnqqa11pF7lbo9PLQuM7R961zf-F8QSa9gbduoxBvbtJ4Npe9DawQ0Qn5i73ruz3F8n8_vHmTdkzzxB-0o9WErPgOxVS9w7tG9ZJeVkg4abSWaRFGxdAf0UKK9NoB_WZ_OfbQbpNfaVh5BH9OXki_Lf3lGFjAZ0O_BfG5_skt3FGcIbbO3Rzn7OL9FWDS458G2fvtCV4qv64Su7qEc_PnK9GTi5iLZs6vsDGedfuEJzQ3o6Zhz4Y1FxqF3loXKKI1rQxoDF0SbHwxj8Gm7RiLObyfuoVjph-pl_I0-BI9mMpDE04VznIiAD7RqClHxptqeGLhNgnWOTlQN3OFw/file?dl=1 [following]\n",
      "--2024-05-07 15:33:16--  https://uc9311b0786cf0132909e965ccb0.dl.dropboxusercontent.com/cd/0/inline2/CSc13bt0MCvVBtQ8zIM9OihaduXdOUpp2JPuE32lU-XTqW2Pasnqqa11pF7lbo9PLQuM7R961zf-F8QSa9gbduoxBvbtJ4Npe9DawQ0Qn5i73ruz3F8n8_vHmTdkzzxB-0o9WErPgOxVS9w7tG9ZJeVkg4abSWaRFGxdAf0UKK9NoB_WZ_OfbQbpNfaVh5BH9OXki_Lf3lGFjAZ0O_BfG5_skt3FGcIbbO3Rzn7OL9FWDS458G2fvtCV4qv64Su7qEc_PnK9GTi5iLZs6vsDGedfuEJzQ3o6Zhz4Y1FxqF3loXKKI1rQxoDF0SbHwxj8Gm7RiLObyfuoVjph-pl_I0-BI9mMpDE04VznIiAD7RqClHxptqeGLhNgnWOTlQN3OFw/file?dl=1\n",
      "Reusing existing connection to uc9311b0786cf0132909e965ccb0.dl.dropboxusercontent.com:443.\n",
      "HTTP request sent, awaiting response... 200 OK\n",
      "Length: 28576911 (27M) [application/binary]\n",
      "Saving to: ‘rodgers_hl_example.zip’\n",
      "\n",
      "rodgers_hl_example. 100%[===================>]  27.25M   120MB/s    in 0.2s    \n",
      "\n",
      "2024-05-07 15:33:16 (120 MB/s) - ‘rodgers_hl_example.zip’ saved [28576911/28576911]\n",
      "\n"
     ]
    }
   ],
   "source": [
    "!wget \"https://www.dropbox.com/scl/fi/ddqx98jlt0yjc9ebpikhq/rodgers_hl_example.zip?rlkey=eoiy5zsfmk21tnq7liogn6sgj&st=t72zh7b2&dl=1\" -O \"rodgers_hl_example.zip\""
   ]
  },
  {
   "cell_type": "code",
   "execution_count": 11,
   "metadata": {},
   "outputs": [],
   "source": [
    "import zipfile\n",
    "with zipfile.ZipFile('rodgers_hl_example.zip', 'r') as zip_ref:\n",
    "    zip_ref.extractall('')"
   ]
  },
  {
   "cell_type": "markdown",
   "metadata": {},
   "source": [
    "### Import Packages and Load Data"
   ]
  },
  {
   "cell_type": "code",
   "execution_count": 1,
   "metadata": {},
   "outputs": [
    {
     "name": "stderr",
     "output_type": "stream",
     "text": [
      "2024-05-07 15:00:45.230320: W tensorflow/stream_executor/platform/default/dso_loader.cc:64] Could not load dynamic library 'libcudart.so.11.0'; dlerror: libcudart.so.11.0: cannot open shared object file: No such file or directory\n",
      "2024-05-07 15:00:45.230347: I tensorflow/stream_executor/cuda/cudart_stub.cc:29] Ignore above cudart dlerror if you do not have a GPU set up on your machine.\n"
     ]
    }
   ],
   "source": [
    "import numpy as np\n",
    "import pandas as pd\n",
    "import umap\n",
    "from sklearn.decomposition import PCA\n",
    "from interactive_visualization import generate_visualization"
   ]
  },
  {
   "cell_type": "markdown",
   "metadata": {},
   "source": [
    "For ease of use, we have included the BAMS embeddings from a model we trained on the entire rodgers dataset. However, it should be plug and play with any data and embeddings from other models, PCA, etc."
   ]
  },
  {
   "cell_type": "code",
   "execution_count": 2,
   "metadata": {},
   "outputs": [],
   "source": [
    "tracks = np.array(pd.read_pickle('./rodgers_hl_example/20230805_hl_sleap/tracks/e3v8303-20230519T152703-155244'))\n",
    "tracks = np.stack((tracks[:, ::2], tracks[:, 1::2]), axis=2)\n",
    "embeddings = np.load('./rodgers_hl_example/BAMS_example_embeddings.npy', allow_pickle=True).item()\n",
    "short_term_embeddings = embeddings['short_term'][:tracks.shape[0]]\n",
    "long_term_embeddings = embeddings['long_term'][:tracks.shape[0]]"
   ]
  },
  {
   "cell_type": "markdown",
   "metadata": {},
   "source": [
    "### Dimensionality reduction of embeddings\n",
    "The visualization software expects 2D data to visualize. Here we show examples of using both PCA and UMAP for reducing the 64-dim BAMS embeddings to 2-dim."
   ]
  },
  {
   "cell_type": "code",
   "execution_count": 3,
   "metadata": {},
   "outputs": [],
   "source": [
    "# long term PCA\n",
    "pca = PCA(n_components=2)\n",
    "pca.fit(long_term_embeddings)\n",
    "long_term_pca = pca.transform(long_term_embeddings)\n",
    "\n",
    "# short term umap\n",
    "short_term_umap = umap.UMAP().fit_transform(short_term_embeddings)"
   ]
  },
  {
   "cell_type": "markdown",
   "metadata": {},
   "source": [
    "### Format mouse edges and cage location\n",
    "Here we show how to format the optional keypoint skeletons and cage location inputs."
   ]
  },
  {
   "cell_type": "code",
   "execution_count": 19,
   "metadata": {},
   "outputs": [],
   "source": [
    "# Each entry represents a keypoint index. For example (0,2) will draw a line from keypoint 0 to 2. This is useful for drawing skeletons.\n",
    "edges = np.array([(0, 2), (0, 5), (0,4), (4, 5), (6, 1), (1, 2), (1, 11), (11, 13), (13, 12), (12, 3),\n",
    "                    (10, 8), (9, 7), (7,8), (9, 10)\n",
    "            ])\n",
    "edges = np.concatenate([edges], axis=0)"
   ]
  },
  {
   "cell_type": "code",
   "execution_count": 15,
   "metadata": {},
   "outputs": [],
   "source": [
    "# Load and format cage locations\n",
    "# cage_locs should contain pixel coordinates of the cage edges. The visulaization will draw lines between (x0,y0)->(x1,y1) to represent the cage.\n",
    "cage_locs = pd.read_pickle('./rodgers_hl_example/example_cage_locs')\n",
    "outer_ring = ['ENEO', 'ESEO', 'SSEO', 'SSWO', 'WSWO', 'WNWO', 'NNWO', 'NNEO']\n",
    "inner_ring = ['ENEI', 'ESEI', 'SSEI', 'SSWI', 'WSWI', 'WNWI', 'NNWI', 'NNEI']\n",
    "outer_edges_x0, outer_edges_x1 = [cage_locs.loc[name]['x'] for name in outer_ring], [cage_locs.loc[name]['x'] for name in outer_ring[1:]+[outer_ring[0]]]\n",
    "outer_edges_y0, outer_edges_y1 = [cage_locs.loc[name]['y'] for name in outer_ring], [cage_locs.loc[name]['y'] for name in outer_ring[1:]+[outer_ring[0]]]\n",
    "inner_walls_x0, inner_walls_x1 = [cage_locs.loc[name]['x'] for name in outer_ring], [cage_locs.loc[name]['x'] for name in inner_ring]\n",
    "inner_walls_y0, inner_walls_y1 = [cage_locs.loc[name]['y'] for name in outer_ring], [cage_locs.loc[name]['y'] for name in inner_ring]\n",
    "cage_edges_x0, cage_edges_x1 = outer_edges_x0 + inner_walls_x0, outer_edges_x1 + inner_walls_x1\n",
    "cage_edges_y0, cage_edges_y1 = outer_edges_y0 + inner_walls_y0, outer_edges_y1 + inner_walls_y1\n",
    "cage_locs = np.stack([cage_edges_x0, cage_edges_y0, cage_edges_x1, cage_edges_y1], axis=1)"
   ]
  },
  {
   "cell_type": "markdown",
   "metadata": {},
   "source": [
    "### Visualize\n",
    "Call generate_visualization to create the interactive visualization. This block shows how to format the representations in the desired format, and demonstrates using the optional labels argument."
   ]
  },
  {
   "cell_type": "code",
   "execution_count": 21,
   "metadata": {},
   "outputs": [],
   "source": [
    "short_term_reps = {'reps': short_term_umap, 'c': np.repeat('magenta', short_term_umap.shape[0])}\n",
    "long_term_reps = {'reps': long_term_pca, 'c': np.repeat('cyan', long_term_pca.shape[0])}\n",
    "labels = {'keypoints': 'Example Mouse', 'short': 'UMAP', 'long': 'PCA'}\n",
    "generate_visualization(tracks, short_term_reps, long_term_reps, labels=labels, time_steps=(5000,25000), edges=edges, skip_every=2, cage_locs=cage_locs)"
   ]
  }
 ],
 "metadata": {
  "kernelspec": {
   "display_name": "bams",
   "language": "python",
   "name": "bams"
  },
  "language_info": {
   "codemirror_mode": {
    "name": "ipython",
    "version": 3
   },
   "file_extension": ".py",
   "mimetype": "text/x-python",
   "name": "python",
   "nbconvert_exporter": "python",
   "pygments_lexer": "ipython3",
   "version": "3.8.10"
  }
 },
 "nbformat": 4,
 "nbformat_minor": 2
}
